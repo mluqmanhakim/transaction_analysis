{
 "cells": [
  {
   "cell_type": "code",
   "execution_count": 16,
   "id": "beaa7f6f-a15f-4579-b1ff-b60d792c88ed",
   "metadata": {},
   "outputs": [],
   "source": [
    "import pickle\n",
    "import numpy as np\n",
    "import pandas as pd\n",
    "import ollama"
   ]
  },
  {
   "cell_type": "code",
   "execution_count": 17,
   "id": "a403a96c-7468-4cdb-bb10-52cc5e66bd3c",
   "metadata": {},
   "outputs": [],
   "source": [
    "df = pd.read_csv(r\"C:\\Users\\223099055.HCAD\\Downloads\\DANA\\dana_transactions.csv\")"
   ]
  },
  {
   "cell_type": "markdown",
   "id": "a4042ea2-4155-46ed-b43d-1ecd6acc658b",
   "metadata": {},
   "source": [
    "# Generate merchant gender using LLM"
   ]
  },
  {
   "cell_type": "code",
   "execution_count": 3,
   "id": "a14066e2-0d08-4436-ab36-e709a020a56c",
   "metadata": {},
   "outputs": [],
   "source": [
    "def get_gender_from_merchant(merchant_name):\n",
    "    prompt = f\"What gender does {merchant_name} store sell products for? Say don't know if you have no idea\"\n",
    "    response = ollama.chat(model='tinyllama:latest', messages=[\n",
    "      {'role': 'user', 'content': prompt,},\n",
    "    ])\n",
    "    gender = \"all\"\n",
    "    res = response['message']['content'].lower()\n",
    "    if \" men \" in res and \" women \" in res:\n",
    "        pass\n",
    "    elif \" men \" in res:\n",
    "        gender = \"men\"\n",
    "    elif \" women \" in res:\n",
    "        gender = \"women\"\n",
    "    return gender"
   ]
  },
  {
   "cell_type": "code",
   "execution_count": 4,
   "id": "5a3b408d-fc60-41a9-b3cc-834cf678594b",
   "metadata": {},
   "outputs": [],
   "source": [
    "merchant_to_gender = {}\n",
    "\n",
    "with open('merchant_to_gender.pickle', 'rb') as f:\n",
    "    merchant_to_gender = pickle.load(f)"
   ]
  },
  {
   "cell_type": "code",
   "execution_count": 10,
   "id": "82e90005-2d4d-483f-bdc7-46690a1bb440",
   "metadata": {},
   "outputs": [],
   "source": [
    "for i in df['merchant_id'].unique():\n",
    "    if i in merchant_to_gender:\n",
    "        continue\n",
    "    d = df[df['merchant_id'] == i].iloc[0]\n",
    "    g = get_gender_from_merchant(d['merchant_name'])\n",
    "    merchant_to_gender[i] = g"
   ]
  },
  {
   "cell_type": "code",
   "execution_count": 12,
   "id": "af2d859a-5454-4eed-b89c-84d826b80e6e",
   "metadata": {},
   "outputs": [],
   "source": [
    "with open('merchant_to_gender.pickle', 'wb') as f:\n",
    "    pickle.dump(merchant_to_gender, f, protocol=pickle.HIGHEST_PROTOCOL)"
   ]
  },
  {
   "cell_type": "code",
   "execution_count": null,
   "id": "52ec2126-ef55-454f-91a0-b102813a0718",
   "metadata": {},
   "outputs": [],
   "source": []
  },
  {
   "cell_type": "markdown",
   "id": "d5e3a5ec-2fe5-486a-bc2d-0691f544df3f",
   "metadata": {},
   "source": [
    "# Generate gender rate for each merchant category"
   ]
  },
  {
   "cell_type": "code",
   "execution_count": 21,
   "id": "1b77e736-c129-41fc-b1c5-c77321bb987f",
   "metadata": {},
   "outputs": [],
   "source": [
    "merchant_to_gender = {}\n",
    "\n",
    "with open('merchant_to_gender.pickle', 'rb') as f:\n",
    "    merchant_to_gender = pickle.load(f)"
   ]
  },
  {
   "cell_type": "code",
   "execution_count": 22,
   "id": "ee058d66-ca57-4ddc-9d36-ded912abf937",
   "metadata": {},
   "outputs": [],
   "source": [
    "merchant_cat_gender_rate = {} \n",
    "\n",
    "for c in df['merchant_category_id'].unique():\n",
    "    df_c = df[df['merchant_category_id'] == c].copy()\n",
    "    merc_cat_gender = []\n",
    "    for m in df_c['merchant_id'].unique():\n",
    "        if m in merchant_to_gender:\n",
    "            merc_cat_gender.append(merchant_to_gender[m])\n",
    "\n",
    "    men_rate = merc_cat_gender.count(\"men\") / len(merc_cat_gender)\n",
    "    women_rate = merc_cat_gender.count(\"women\") / len(merc_cat_gender)\n",
    "    \n",
    "    merchant_cat_gender_rate[c] = {\n",
    "        'men': men_rate,\n",
    "        'women': women_rate,\n",
    "    }"
   ]
  },
  {
   "cell_type": "code",
   "execution_count": null,
   "id": "3adaaa9e-f4ca-44dd-87a0-044ed12e6a13",
   "metadata": {},
   "outputs": [],
   "source": []
  },
  {
   "cell_type": "markdown",
   "id": "26fb5c99-7352-4d15-b9c3-be690e8a3f8e",
   "metadata": {},
   "source": [
    "# Generate user gender"
   ]
  },
  {
   "cell_type": "code",
   "execution_count": 103,
   "id": "281abe3d-45e3-4861-af70-5b5fe1c134f0",
   "metadata": {},
   "outputs": [],
   "source": [
    "user_gender = {}\n",
    "\n",
    "for u in df['user_id'].unique():\n",
    "    df_u = df[df['user_id'] == u].copy()\n",
    "    user_gen = None\n",
    "\n",
    "    merch_genders = []\n",
    "    for m in df_u['merchant_id'].unique():\n",
    "        if m in merchant_to_gender:\n",
    "            merch_genders.append(merchant_to_gender[m])\n",
    "\n",
    "    if 'men' not in merch_genders and 'women' not in merch_genders:\n",
    "        continue\n",
    "\n",
    "    if merch_genders.count(\"men\") > merch_genders.count(\"women\"):\n",
    "        user_gen = 'male'\n",
    "    else:\n",
    "        user_gen = 'female'\n",
    "\n",
    "    if user_gen:\n",
    "        user_gender[u] = user_gen"
   ]
  },
  {
   "cell_type": "code",
   "execution_count": 98,
   "id": "05735748-748e-4360-bf1a-677f8b6e0fc1",
   "metadata": {},
   "outputs": [],
   "source": [
    "for u in df['user_id'].unique():\n",
    "    if u in user_gender:\n",
    "        continue\n",
    "\n",
    "    df_u = df[df['user_id'] == u].copy()\n",
    "    merch_genders = []\n",
    "    user_gen = None\n",
    "\n",
    "    for c in df_u['merchant_category_id'].unique():\n",
    "        rate = merchant_cat_gender_rate[c]\n",
    "        rate_unk = 1 - (rate['men'] + rate['women'])\n",
    "        option = ['men', 'women', 'unk']\n",
    "        prob = [rate['men'], rate['women'], rate_unk]\n",
    "        g = np.random.choice(option, 1, p=prob)\n",
    "        merch_genders.append(str(g[0]))\n",
    "    \n",
    "    if 'men' not in merch_genders and 'women' not in merch_genders:\n",
    "        continue\n",
    "    \n",
    "    if merch_genders.count(\"men\") > merch_genders.count(\"women\"):\n",
    "        user_gen = 'male'\n",
    "    else:\n",
    "        user_gen = 'female'\n",
    "    \n",
    "    if user_gen:\n",
    "        user_gender[u] = user_gen"
   ]
  },
  {
   "cell_type": "code",
   "execution_count": 100,
   "id": "f7065b78-f188-459c-9c4b-528bd7413f3b",
   "metadata": {},
   "outputs": [],
   "source": [
    "with open('user_gender.pickle', 'wb') as f:\n",
    "    pickle.dump(user_gender, f, protocol=pickle.HIGHEST_PROTOCOL)"
   ]
  },
  {
   "cell_type": "code",
   "execution_count": 99,
   "id": "120a6e9a-d79f-4e63-99b9-9e400f62c602",
   "metadata": {},
   "outputs": [
    {
     "data": {
      "text/plain": [
       "24097"
      ]
     },
     "execution_count": 99,
     "metadata": {},
     "output_type": "execute_result"
    }
   ],
   "source": [
    "len(user_gender)"
   ]
  },
  {
   "cell_type": "code",
   "execution_count": 96,
   "id": "2292c0e2-8348-42f3-adcc-b4d2ec501350",
   "metadata": {},
   "outputs": [
    {
     "data": {
      "text/plain": [
       "24321"
      ]
     },
     "execution_count": 96,
     "metadata": {},
     "output_type": "execute_result"
    }
   ],
   "source": [
    "len(df['user_id'].unique())"
   ]
  },
  {
   "cell_type": "code",
   "execution_count": 101,
   "id": "2a467019-aef2-45eb-933d-4f191eac4448",
   "metadata": {},
   "outputs": [
    {
     "data": {
      "text/plain": [
       "224"
      ]
     },
     "execution_count": 101,
     "metadata": {},
     "output_type": "execute_result"
    }
   ],
   "source": [
    "24321 - 24097"
   ]
  },
  {
   "cell_type": "code",
   "execution_count": null,
   "id": "d623468f-ba2c-41f4-9599-1b16162f02a3",
   "metadata": {},
   "outputs": [],
   "source": []
  },
  {
   "cell_type": "markdown",
   "id": "83aa25bc-2249-4e0d-8430-0feabeac5478",
   "metadata": {},
   "source": [
    "# Debug"
   ]
  },
  {
   "cell_type": "code",
   "execution_count": null,
   "id": "a7da125c-c8cb-4228-9508-72cbb0f7c7f0",
   "metadata": {},
   "outputs": [],
   "source": [
    "merchant_name = \"Barron, Davis and Parks\"\n",
    "prompt = f\"What gender does {merchant_name} store sell products for? Say don't know if you have no idea. Please pick from these options: men, women, both\"\n",
    "response = ollama.chat(model='tinyllama:latest', messages=[\n",
    "  {\n",
    "    'role': 'user',\n",
    "    'content': prompt,\n",
    "  },\n",
    "])\n",
    "print(response['message']['content'])"
   ]
  },
  {
   "cell_type": "code",
   "execution_count": null,
   "id": "2031d236-c7f6-431b-ba8c-b4b6884c805c",
   "metadata": {},
   "outputs": [],
   "source": []
  }
 ],
 "metadata": {
  "kernelspec": {
   "display_name": "Python 3 (ipykernel)",
   "language": "python",
   "name": "python3"
  },
  "language_info": {
   "codemirror_mode": {
    "name": "ipython",
    "version": 3
   },
   "file_extension": ".py",
   "mimetype": "text/x-python",
   "name": "python",
   "nbconvert_exporter": "python",
   "pygments_lexer": "ipython3",
   "version": "3.12.4"
  }
 },
 "nbformat": 4,
 "nbformat_minor": 5
}

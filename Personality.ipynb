{
 "cells": [
  {
   "cell_type": "code",
   "execution_count": 44,
   "id": "beaa7f6f-a15f-4579-b1ff-b60d792c88ed",
   "metadata": {},
   "outputs": [],
   "source": [
    "import pickle\n",
    "import numpy as np\n",
    "import pandas as pd\n",
    "import matplotlib.pyplot as plt"
   ]
  },
  {
   "cell_type": "code",
   "execution_count": 45,
   "id": "a403a96c-7468-4cdb-bb10-52cc5e66bd3c",
   "metadata": {},
   "outputs": [],
   "source": [
    "df = pd.read_csv(r\"C:\\Users\\223099055.HCAD\\Downloads\\DANA\\dana_transactions.csv\")\n",
    "df = df[(df['transaction_status'] == 'completed')]"
   ]
  },
  {
   "cell_type": "code",
   "execution_count": 46,
   "id": "a790c911-4384-4cf9-8d1d-8a94347d6577",
   "metadata": {},
   "outputs": [],
   "source": [
    "personality = {}\n",
    "\n",
    "with open('personality.pickle', 'rb') as f:\n",
    "    personality = pickle.load(f)"
   ]
  },
  {
   "cell_type": "markdown",
   "id": "82d59cc8-78d5-4f86-88f3-d87d9401c4b4",
   "metadata": {},
   "source": [
    "# Openness"
   ]
  },
  {
   "cell_type": "code",
   "execution_count": null,
   "id": "9f3f4727-0aaa-4547-a732-611f4a7773de",
   "metadata": {},
   "outputs": [],
   "source": [
    "n_merchant_per_user = df.groupby(['user_id'])['merchant_id'].nunique()\n",
    "\n",
    "std_n_merchant = n_merchant_per_user.std()\n",
    "mean_n_merchant = n_merchant_per_user.mean()"
   ]
  },
  {
   "cell_type": "code",
   "execution_count": null,
   "id": "bc127016-fe7a-4a79-865d-029e308208c7",
   "metadata": {},
   "outputs": [],
   "source": [
    "for user in df['user_id'].unique():\n",
    "    df_u = df[df['user_id'] == user].copy()\n",
    "    openness = 0.5\n",
    "    \n",
    "    # based on number of merchants per user\n",
    "    n = df_u['merchant_id'].nunique()\n",
    "    if n > mean_n_merchant + std_n_merchant:\n",
    "        openness += 0.2\n",
    "    elif n > mean_n_merchant:\n",
    "        openness += 0.05\n",
    "    elif n < mean_n_merchant - std_n_merchant:\n",
    "        openness -= 0.05\n",
    "\n",
    "    # based on payment method\n",
    "    if 'balance' in df_u['payment_method'].unique():\n",
    "        openness += 0.05\n",
    "\n",
    "    # based on loyalty program\n",
    "    if 'yes' in df['loyalty_program'].unique():\n",
    "        openness -= 0.1\n",
    "\n",
    "    if user in personality:\n",
    "        personality[user]['openness'] = openness\n",
    "    else:\n",
    "        personality[user] = {\n",
    "            'openness': openness\n",
    "        }    "
   ]
  },
  {
   "cell_type": "code",
   "execution_count": null,
   "id": "af2d859a-5454-4eed-b89c-84d826b80e6e",
   "metadata": {},
   "outputs": [],
   "source": [
    "with open('personality.pickle', 'wb') as f:\n",
    "    pickle.dump(personality, f, protocol=pickle.HIGHEST_PROTOCOL)"
   ]
  },
  {
   "cell_type": "markdown",
   "id": "034aab1c-8bea-4d55-b004-cca552912cfd",
   "metadata": {},
   "source": [
    "# Conscientiousness"
   ]
  },
  {
   "cell_type": "code",
   "execution_count": null,
   "id": "39653683-a566-4766-93b7-3f6975e32acb",
   "metadata": {},
   "outputs": [],
   "source": [
    "df = df[(df['transaction_status'] == 'completed') & (df['is_refunded'] == 'no')]"
   ]
  },
  {
   "cell_type": "code",
   "execution_count": null,
   "id": "f4299a5d-b98d-47be-a783-2abea004c26d",
   "metadata": {},
   "outputs": [],
   "source": [
    "def check_transaction_stability(transactions, threshold=10000):\n",
    "    stable = True\n",
    "    max_value = np.max(transactions)\n",
    "    for i in a:\n",
    "        dif = max_value - i\n",
    "        if dif > threshold:\n",
    "            stable = False\n",
    "            break\n",
    "    return stable"
   ]
  },
  {
   "cell_type": "code",
   "execution_count": null,
   "id": "f7153255-d238-4dec-b463-d0a6935011b0",
   "metadata": {},
   "outputs": [],
   "source": [
    "for user in df['user_id'].unique():\n",
    "    df_u = df[df['user_id'] == user].copy()\n",
    "    conscien = 0.5\n",
    "\n",
    "    # based on the stability of total transaction amount per week\n",
    "    df_u['new_date'] = pd.to_datetime(df_u['transaction_date']) - pd.to_timedelta(7, unit='d')\n",
    "    df_tran_per_week = df_u.groupby([pd.Grouper(key='new_date', freq='W-MON')])['transaction_amount'].sum().reset_index().sort_values('new_date')\n",
    "    tran_per_week = df_tran_per_week[df_tran_per_week['transaction_amount'] > 0]['transaction_amount'].to_numpy()\n",
    "    stable_tran = check_transaction_stability(tran_per_week)\n",
    "    if stable_tran:\n",
    "        conscien += 0.3\n",
    "    \n",
    "    # based on number of transactions with notes\n",
    "    n_tran_with_note = len(df_u[df_u['transaction_notes'] == 'yes'])\n",
    "    if n_tran_with_note / len(df_u) > 0.5:\n",
    "        conscien += 0.1\n",
    "    \n",
    "    if user in personality:\n",
    "        personality[user]['conscientiousness'] = conscien\n",
    "    else:\n",
    "        personality[user] = {\n",
    "            'conscientiousness': conscien\n",
    "        }"
   ]
  },
  {
   "cell_type": "code",
   "execution_count": null,
   "id": "ee0f9c5a-206e-444c-b401-c250a7a16267",
   "metadata": {},
   "outputs": [],
   "source": [
    "with open('personality.pickle', 'wb') as f:\n",
    "    pickle.dump(personality, f, protocol=pickle.HIGHEST_PROTOCOL)"
   ]
  },
  {
   "cell_type": "markdown",
   "id": "a3a17583-3ad7-47a2-a5ce-dcd2926d7e67",
   "metadata": {},
   "source": [
    "# Extroversion "
   ]
  },
  {
   "cell_type": "code",
   "execution_count": 47,
   "id": "1f5246d5-f668-4de4-ab97-36492659ee8b",
   "metadata": {},
   "outputs": [],
   "source": [
    "df = df[(df['transaction_status'] == 'completed') & (df['is_refunded'] == 'no')]"
   ]
  },
  {
   "cell_type": "code",
   "execution_count": 49,
   "id": "02b94f86-ca85-4d3b-b7ae-192ac3c1b30b",
   "metadata": {},
   "outputs": [],
   "source": [
    "for user in df['user_id'].unique():\n",
    "    df_u = df[df['user_id'] == user].copy()\n",
    "    extro = 0.5\n",
    "\n",
    "    std = df_u['transaction_amount'].std()\n",
    "    avg = df_u['transaction_amount'].mean()\n",
    "    n_impulsive_buy = len(df_u[df_u['transaction_amount'] > avg + std])\n",
    "    if n_impulsive_buy >= 6:\n",
    "        extro += 0.25\n",
    "    elif n_impulsive_buy >= 3:\n",
    "        extro += 0.15\n",
    "\n",
    "    if user in personality:\n",
    "        personality[user]['extroversion'] = extro\n",
    "    else:\n",
    "        personality[user] = {\n",
    "            'extroversion': extro\n",
    "        }"
   ]
  },
  {
   "cell_type": "code",
   "execution_count": null,
   "id": "2d084dae-ac62-47f9-877d-5c07338ffb58",
   "metadata": {},
   "outputs": [],
   "source": [
    "with open('personality.pickle', 'wb') as f:\n",
    "    pickle.dump(personality, f, protocol=pickle.HIGHEST_PROTOCOL)"
   ]
  },
  {
   "cell_type": "markdown",
   "id": "560c0877-82a3-471c-8b91-f3c767471461",
   "metadata": {},
   "source": [
    "# Agreeableness"
   ]
  },
  {
   "cell_type": "code",
   "execution_count": 19,
   "id": "52c1a476-f0cf-43b3-89ca-1f3f7a64cf86",
   "metadata": {},
   "outputs": [],
   "source": [
    "merchant_popularity = {}\n",
    "\n",
    "for m in df['merchant_id'].unique():\n",
    "    users = df[df['merchant_id'] == m]['user_id'].unique()\n",
    "    n_user = len(users)\n",
    "\n",
    "    if n_user > 240: # 240 is 1% of total user\n",
    "        label = 'very_popular'        \n",
    "    elif n_user > 48: # 48 is 0.2% of total user\n",
    "        label = 'popular'\n",
    "    elif n_user > 24:\n",
    "        label = 'normal'\n",
    "    else:\n",
    "        label = 'not_popular'\n",
    "\n",
    "    merchant_popularity[m] = label"
   ]
  },
  {
   "cell_type": "code",
   "execution_count": 23,
   "id": "e4447e2e-c547-4104-ba82-dc6e56a3eee8",
   "metadata": {},
   "outputs": [],
   "source": [
    "for user in df['user_id'].unique():\n",
    "    df_u = df[df['user_id'] == user].copy()\n",
    "    agree = 0.5\n",
    "\n",
    "    # based on the popularity of merchant\n",
    "    merchant_user = []\n",
    "    for m in df_u['merchant_id'].unique():\n",
    "        merchant_user.append(merchant_popularity[m])\n",
    "    merchant_user = pd.Series(merchant_user)\n",
    "    sorted_popularity = merchant_user.groupby(merchant_user).size().sort_values(ascending=False)\n",
    "    label = sorted_popularity.index[0]\n",
    "\n",
    "    if label == 'very_popular':\n",
    "        agree += 0.3\n",
    "    elif label == 'popular':\n",
    "        agree += 0.15\n",
    "    elif label == 'not_popular':\n",
    "        agree -= 0.15\n",
    "        \n",
    "    if user in personality:\n",
    "        personality[user]['agreeableness'] = agree\n",
    "    else:\n",
    "        personality[user] = {\n",
    "            'agreeableness': agree\n",
    "        }"
   ]
  },
  {
   "cell_type": "code",
   "execution_count": 51,
   "id": "ef5ea7a3-ef0d-49ff-b317-31689dd36207",
   "metadata": {},
   "outputs": [],
   "source": [
    "with open('personality.pickle', 'wb') as f:\n",
    "    pickle.dump(personality, f, protocol=pickle.HIGHEST_PROTOCOL)"
   ]
  },
  {
   "cell_type": "markdown",
   "id": "36a0876e-60ea-4e33-8f4a-03cd30e7397e",
   "metadata": {},
   "source": [
    "# Neuroticism"
   ]
  },
  {
   "cell_type": "code",
   "execution_count": null,
   "id": "e34023e0-284a-4355-9585-79e9c76732ef",
   "metadata": {},
   "outputs": [],
   "source": [
    "with open('personality.pickle', 'rb') as f:\n",
    "    personality = pickle.load(f)"
   ]
  },
  {
   "cell_type": "code",
   "execution_count": null,
   "id": "d85b3637-61c7-41f9-bc89-81fa99e1a3f8",
   "metadata": {},
   "outputs": [],
   "source": [
    "for user in df['user_id'].unique():\n",
    "    df_u = df[df['user_id'] == user].copy()\n",
    "    neuro = 0.5\n",
    "\n",
    "     # based on number of refunded transactions\n",
    "    n_tran_refund = len(df_u[df_u['is_refunded'] == 'yes'])\n",
    "    if n_tran_refund > 1:\n",
    "        neuro += 0.1\n",
    "    elif n_tran_refund < 1:\n",
    "        neuro -= 0.1\n",
    "\n",
    "    # based on number of transactions with merchant rating one (very bad) \n",
    "    n_rating_one = len(df_u[df_u['merchant_rating'] == 1])\n",
    "    if n_rating_one >= 3:\n",
    "        neuro += 0.1\n",
    "    elif n_rating_one < 1:\n",
    "        neuro -= 0.1\n",
    "\n",
    "    if user in personality:\n",
    "        personality[user]['neuroticism'] = neuro\n",
    "    else:\n",
    "        personality[user] = {\n",
    "            'neuroticism': neuro\n",
    "        }"
   ]
  },
  {
   "cell_type": "code",
   "execution_count": null,
   "id": "b8c146a8-5ec2-4238-aec9-1254774d9c77",
   "metadata": {},
   "outputs": [],
   "source": [
    "with open('personality.pickle', 'wb') as f:\n",
    "    pickle.dump(personality, f, protocol=pickle.HIGHEST_PROTOCOL)"
   ]
  },
  {
   "cell_type": "code",
   "execution_count": null,
   "id": "8f3a83ad-1abe-444d-9b89-730aa6238ec7",
   "metadata": {},
   "outputs": [],
   "source": []
  },
  {
   "cell_type": "code",
   "execution_count": null,
   "id": "9c98346c-87fa-4b7c-b346-84aa1b79f51a",
   "metadata": {},
   "outputs": [],
   "source": []
  }
 ],
 "metadata": {
  "kernelspec": {
   "display_name": "Python 3 (ipykernel)",
   "language": "python",
   "name": "python3"
  },
  "language_info": {
   "codemirror_mode": {
    "name": "ipython",
    "version": 3
   },
   "file_extension": ".py",
   "mimetype": "text/x-python",
   "name": "python",
   "nbconvert_exporter": "python",
   "pygments_lexer": "ipython3",
   "version": "3.12.4"
  }
 },
 "nbformat": 4,
 "nbformat_minor": 5
}

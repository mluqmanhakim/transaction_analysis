{
 "cells": [
  {
   "cell_type": "code",
   "execution_count": 8,
   "id": "beaa7f6f-a15f-4579-b1ff-b60d792c88ed",
   "metadata": {},
   "outputs": [],
   "source": [
    "import pickle\n",
    "import numpy as np\n",
    "import pandas as pd\n",
    "import matplotlib.pyplot as plt"
   ]
  },
  {
   "cell_type": "code",
   "execution_count": 50,
   "id": "a403a96c-7468-4cdb-bb10-52cc5e66bd3c",
   "metadata": {},
   "outputs": [],
   "source": [
    "df = pd.read_csv(r\"C:\\Users\\223099055.HCAD\\Downloads\\DANA\\dana_transactions.csv\")\n",
    "# df = df[(df['transaction_status'] == 'completed') & (df['is_refunded'] == 'no')]\n",
    "df = df[(df['transaction_status'] == 'completed')]"
   ]
  },
  {
   "cell_type": "code",
   "execution_count": 46,
   "id": "5a3b408d-fc60-41a9-b3cc-834cf678594b",
   "metadata": {},
   "outputs": [],
   "source": [
    "with open('merchant_to_gender.pickle', 'rb') as f:\n",
    "    merchant_to_gender = pickle.load(f)"
   ]
  },
  {
   "cell_type": "code",
   "execution_count": 47,
   "id": "85a4f24a-7d6a-41c3-8ab7-4d66fee42e0c",
   "metadata": {},
   "outputs": [
    {
     "data": {
      "text/plain": [
       "6489"
      ]
     },
     "execution_count": 47,
     "metadata": {},
     "output_type": "execute_result"
    }
   ],
   "source": [
    "len(merchant_to_gender)"
   ]
  },
  {
   "cell_type": "code",
   "execution_count": null,
   "id": "89669966-3102-4df7-b36a-e56f7df50e07",
   "metadata": {},
   "outputs": [],
   "source": []
  },
  {
   "cell_type": "code",
   "execution_count": null,
   "id": "542dc27d-cb98-4fdf-8819-67596d53eddd",
   "metadata": {},
   "outputs": [],
   "source": []
  }
 ],
 "metadata": {
  "kernelspec": {
   "display_name": "Python 3 (ipykernel)",
   "language": "python",
   "name": "python3"
  },
  "language_info": {
   "codemirror_mode": {
    "name": "ipython",
    "version": 3
   },
   "file_extension": ".py",
   "mimetype": "text/x-python",
   "name": "python",
   "nbconvert_exporter": "python",
   "pygments_lexer": "ipython3",
   "version": "3.12.4"
  }
 },
 "nbformat": 4,
 "nbformat_minor": 5
}
